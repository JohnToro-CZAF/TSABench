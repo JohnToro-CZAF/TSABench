{
 "cells": [
  {
   "cell_type": "code",
   "execution_count": null,
   "metadata": {},
   "outputs": [
    {
     "ename": "",
     "evalue": "",
     "output_type": "error",
     "traceback": [
      "\u001b[1;31mRunning cells with 'fyp (Python 3.10.15)' requires the ipykernel package.\n",
      "\u001b[1;31mRun the following command to install 'ipykernel' into the Python environment. \n",
      "\u001b[1;31mCommand: 'conda install -p /datadrive5/huypn16/anaconda3/envs/fyp ipykernel --update-deps --force-reinstall'"
     ]
    }
   ],
   "source": [
    "import wandb\n",
    "import random\n",
    "import math"
   ]
  },
  {
   "cell_type": "code",
   "execution_count": null,
   "metadata": {},
   "outputs": [
    {
     "name": "stderr",
     "output_type": "stream",
     "text": [
      "\u001b[34m\u001b[1mwandb\u001b[0m: Currently logged in as: \u001b[33mjohntoro\u001b[0m (\u001b[33mai4sw\u001b[0m). Use \u001b[1m`wandb login --relogin`\u001b[0m to force relogin\n",
      "\u001b[34m\u001b[1mwandb\u001b[0m: \u001b[33mWARNING\u001b[0m If you're specifying your api key in code, ensure this code is not shared publicly.\n",
      "\u001b[34m\u001b[1mwandb\u001b[0m: \u001b[33mWARNING\u001b[0m Consider setting the WANDB_API_KEY environment variable, or running `wandb login` from the command line.\n",
      "\u001b[34m\u001b[1mwandb\u001b[0m: Appending key for api.wandb.ai to your netrc file: /home/huypn16/.netrc\n"
     ]
    },
    {
     "data": {
      "text/plain": [
       "True"
      ]
     },
     "execution_count": 7,
     "metadata": {},
     "output_type": "execute_result"
    }
   ],
   "source": [
    "wandb.login(key=\"d1209ac0e4a568567e407d3afef99099ea87a4b1\")"
   ]
  },
  {
   "cell_type": "code",
   "execution_count": null,
   "metadata": {},
   "outputs": [
    {
     "name": "stdout",
     "output_type": "stream",
     "text": [
      "env: WANDB_PROJECT=text-sentiment-analysis\n",
      "env: WANDB_ENTITY=SC4001\n"
     ]
    }
   ],
   "source": [
    "%env WANDB_PROJECT=text-sentiment-analysis\n",
    "%env WANDB_ENTITY=SC4001"
   ]
  },
  {
   "cell_type": "code",
   "execution_count": null,
   "metadata": {},
   "outputs": [
    {
     "name": "stderr",
     "output_type": "stream",
     "text": [
      "/datadrive5/huypn16/anaconda3/envs/ana/lib/python3.11/site-packages/transformers/training_args.py:1545: FutureWarning: `evaluation_strategy` is deprecated and will be removed in version 4.46 of 🤗 Transformers. Use `eval_strategy` instead\n",
      "  warnings.warn(\n"
     ]
    }
   ],
   "source": [
    "import os\n",
    "import torch\n",
    "import wandb\n",
    "import argparse\n",
    "\n",
    "from torchmetrics import Accuracy, Precision, Recall, F1Score, AUROC\n",
    "\n",
    "from transformers import (\n",
    "    Trainer,\n",
    "    TrainingArguments,\n",
    "    EvalPrediction,\n",
    "    AutoModelForSequenceClassification,\n",
    "    AutoTokenizer\n",
    ")\n",
    "from datasets import load_dataset, Dataset, DatasetDict\n",
    "\n",
    "def train_val_test_split(dataset: Dataset | DatasetDict, seed: int = 42):\n",
    "    train_dataset = dataset[\"train\"]\n",
    "    test_dataset = dataset[\"test\"]\n",
    "\n",
    "    if \"validation\" in dataset:\n",
    "        val_dataset = dataset[\"validation\"]\n",
    "    else:\n",
    "        train_dataset, val_dataset = train_dataset.train_test_split(test_size=0.3, seed=seed).values()\n",
    "\n",
    "    return (train_dataset, val_dataset, test_dataset)\n",
    "\n",
    "def tokenize(dataset: Dataset | DatasetDict, tokenizer_name: str, input_col_name: str = \"text\"):\n",
    "    def _tokenize(examples):\n",
    "        return tokenizer(examples[input_col_name], padding='max_length', truncation=True, max_length=512)\n",
    "    tokenizer = AutoTokenizer.from_pretrained(tokenizer_name)\n",
    "    if tokenizer.pad_token_id is None:\n",
    "        tokenizer.pad_token = tokenizer.eos_token\n",
    "    tokenized_datasets = dataset.map(_tokenize, batched=True).select_columns([\"input_ids\", \"attention_mask\", \"label\"]).with_format(\"torch\")\n",
    "    return tokenized_datasets\n",
    "\n",
    "def subset_dataset(dataset: Dataset | DatasetDict,\n",
    "                   size: int,\n",
    "                   seed: int = 42):\n",
    "    shuffled_dataset = dataset.shuffle(seed=seed)\n",
    "    new_dataset = shuffled_dataset.select(range(size))\n",
    "    return new_dataset\n",
    "\n",
    "\n",
    "# default optimizer: AdamW\n",
    "training_args = TrainingArguments(\n",
    "    output_dir='./results', # output directory of results\n",
    "    num_train_epochs=3, # number of train epochs\n",
    "    report_to='wandb', # enable logging to W&B\n",
    "    evaluation_strategy='steps', # check evaluation metrics at each epoch\n",
    "    logging_steps = 10, # we will log every 10 steps\n",
    "    eval_steps = 200, # we will perform evaluation every 200 steps\n",
    "    save_steps = 200, # we will save the model every 200 steps\n",
    "    save_total_limit = 5, # we only save the last 5 checkpoints (including the best one)\n",
    "    load_best_model_at_end = True, # we will load the best model at the end of training\n",
    "    metric_for_best_model = 'accuracy', # metric to see which model is better\n",
    "    # deepspeed=config, # deep speed integration\n",
    "    #### effective batch_size = per_device_train_batch_size x gradient_accumulation_steps ####\n",
    "    #### We set effective batch_size to 32 (8 x 4) ####\n",
    "    per_device_train_batch_size=int(8 / torch.cuda.device_count()), # batch size per device\n",
    "    per_device_eval_batch_size=int(8 / torch.cuda.device_count()), # eval batch size per device\n",
    "    gradient_accumulation_steps=4, # gradient accumulation\n",
    ")\n",
    "\n",
    "\n",
    "def compute_metrics(pred: EvalPrediction):\n",
    "    # Extract labels and predictions\n",
    "    labels = pred.label_ids\n",
    "    preds = pred.predictions\n",
    "\n",
    "    # for t5 model, the predictions is in the form of a tuple with the logits as the only element in the tuple\n",
    "    if isinstance(preds, tuple):\n",
    "        preds = preds[0]\n",
    "\n",
    "    num_classes = preds.shape[1]\n",
    "\n",
    "    # Convert to torch tensors\n",
    "    labels = torch.tensor(labels)\n",
    "    preds = torch.tensor(preds)\n",
    "\n",
    "    # Initialize metrics\n",
    "    accuracy = Accuracy(task=\"multiclass\", num_classes=num_classes).to(torch.cuda.current_device())\n",
    "    precision = Precision(task=\"multiclass\", num_classes=num_classes).to(torch.cuda.current_device())\n",
    "    recall = Recall(task=\"multiclass\", num_classes=num_classes).to(torch.cuda.current_device())\n",
    "    f1 = F1Score(task=\"multiclass\", num_classes=num_classes).to(torch.cuda.current_device())\n",
    "    auroc = AUROC(task=\"multiclass\", num_classes=num_classes).to(torch.cuda.current_device())\n",
    "\n",
    "    # Calculate metrics (automatically does argmax)\n",
    "    accuracy_score = accuracy(preds, labels)\n",
    "    precision_score = precision(preds, labels)\n",
    "    recall_score = recall(preds, labels)\n",
    "    f1_score = f1(preds, labels)\n",
    "    auroc_score = auroc(preds, labels)\n",
    "\n",
    "\n",
    "    # Convert to CPU for serialization\n",
    "    return {\n",
    "        \"accuracy\": accuracy_score.cpu().item(),\n",
    "        \"precision\": precision_score.cpu().item(),\n",
    "        \"recall\": recall_score.cpu().item(),\n",
    "        \"f1\": f1_score.cpu().item(),\n",
    "        \"auroc\": auroc_score.cpu().item(),\n",
    "    }\n",
    "\n",
    "class CustomTrainer(Trainer):\n",
    "    def __init__(self, *args, run_name: str = None, trainer_args: TrainingArguments = None, **kwargs):\n",
    "        if not trainer_args:\n",
    "            # set default training arguments if not supplied\n",
    "            trainer_args = training_args\n",
    "        if run_name:\n",
    "            trainer_args.run_name = run_name # specify the run name for wandb logging\n",
    "        super().__init__(*args, compute_metrics=compute_metrics, args=trainer_args, **kwargs)\n",
    "\n",
    "    def compute_loss(self, model, inputs, **kwargs):\n",
    "        \"\"\"\n",
    "        Override the default compute_loss.\n",
    "        Use Cross Entropy Loss for multiclass classification (>= 2).\n",
    "        \"\"\"\n",
    "        labels = inputs.pop(\"labels\")\n",
    "\n",
    "        # forward pass\n",
    "        outputs = model(**inputs)\n",
    "        logits = outputs.get(\"logits\")\n",
    "\n",
    "        # compute cross entropy loss\n",
    "        loss_func = torch.nn.CrossEntropyLoss()\n",
    "        loss = loss_func(logits.view(-1, self.model.config.num_labels), labels.view(-1))\n",
    "        if kwargs.get(\"return_outputs\") is not None:\n",
    "          return (loss, outputs)\n",
    "        else:\n",
    "          return loss\n",
    "\n",
    "        # return (loss, outputs) if return_outputs else loss\n"
   ]
  },
  {
   "cell_type": "code",
   "execution_count": null,
   "metadata": {},
   "outputs": [],
   "source": [
    "def main(dataset_name, model):\n",
    "    # parser = argparse.ArgumentParser(description='Small dataset experiments')\n",
    "    # parser.add_argument(\"--dataset\", choices=['imdb', 'yelp', 'sst2', 'rotten_tomatoes'], default='imdb', help=\"Dataset to use\")\n",
    "    # parser.add_argument(\"--model\", choices=['bert', 'gpt2', 't5'], default='bert', help='Model to use')\n",
    "    subset_yelp = True\n",
    "    run_name = f\"{model}-CompareTransformers-{dataset_name}\"\n",
    "\n",
    "    # if args.subset_yelp:\n",
    "        # run_name += \"_subset\"\n",
    "\n",
    "    # set up dataset\n",
    "    if dataset_name == 'imdb':\n",
    "        dataset = load_dataset(\"imdb\")\n",
    "        num_labels = 2\n",
    "        input_col_name = \"text\"\n",
    "    elif dataset_name =='yelp':\n",
    "        dataset = load_dataset(\"yelp_review_full\")\n",
    "        num_labels = 5\n",
    "        input_col_name = \"text\"\n",
    "    elif dataset_name == 'sst2':\n",
    "        dataset = load_dataset(\"sst2\")\n",
    "        num_labels = 2\n",
    "        input_col_name = \"sentence\"\n",
    "    elif dataset_name == \"rotten_tomatoes\":\n",
    "        dataset = load_dataset(\"rotten_tomatoes\")\n",
    "        num_labels = 2\n",
    "        input_col_name = \"text\"\n",
    "    else:\n",
    "        raise NotImplementedError\n",
    "\n",
    "    # set up model\n",
    "    if model == 'bert':\n",
    "        model_name = \"google-bert/bert-base-uncased\"\n",
    "    elif model == 'gpt':\n",
    "        model_name = \"gpt2\"\n",
    "    elif model == 't5':\n",
    "        model_name = \"t5-base\"\n",
    "    else:\n",
    "        raise NotImplementedError\n",
    "    model = AutoModelForSequenceClassification.from_pretrained(model_name, num_labels=num_labels)\n",
    "    if model.config.pad_token_id == None:\n",
    "        model.config.pad_token_id = model.config.eos_token_id\n",
    "\n",
    "    tokenized_datasets = tokenize(dataset, model_name, input_col_name=input_col_name)\n",
    "    train_dataset, val_dataset, test_dataset = train_val_test_split(tokenized_datasets)\n",
    "\n",
    "    if dataset_name =='yelp':\n",
    "        train_dataset = subset_dataset(train_dataset, size=25_000, seed=42)\n",
    "        val_dataset = subset_dataset(val_dataset, size=25_000, seed=42)\n",
    "        test_dataset = subset_dataset(test_dataset, size=25_000, seed=42)\n",
    "\n",
    "    trainer = CustomTrainer(\n",
    "        run_name=run_name,\n",
    "        model=model,\n",
    "        train_dataset=train_dataset,\n",
    "        eval_dataset=val_dataset\n",
    "    )\n",
    "\n",
    "    trainer.train()"
   ]
  },
  {
   "cell_type": "code",
   "execution_count": 14,
   "metadata": {},
   "outputs": [
    {
     "name": "stdout",
     "output_type": "stream",
     "text": [
      "Path, databilder:  imdb\n"
     ]
    },
    {
     "name": "stderr",
     "output_type": "stream",
     "text": [
      "Some weights of BertForSequenceClassification were not initialized from the model checkpoint at google-bert/bert-base-uncased and are newly initialized: ['classifier.bias', 'classifier.weight']\n",
      "You should probably TRAIN this model on a down-stream task to be able to use it for predictions and inference.\n"
     ]
    },
    {
     "data": {
      "application/vnd.jupyter.widget-view+json": {
       "model_id": "eacad1d8414e4039abe8c74aa08389c4",
       "version_major": 2,
       "version_minor": 0
      },
      "text/plain": [
       "Map:   0%|          | 0/25000 [00:00<?, ? examples/s]"
      ]
     },
     "metadata": {},
     "output_type": "display_data"
    },
    {
     "data": {
      "application/vnd.jupyter.widget-view+json": {
       "model_id": "f708c27a9bec467b823009f2055c3adf",
       "version_major": 2,
       "version_minor": 0
      },
      "text/plain": [
       "Map:   0%|          | 0/25000 [00:00<?, ? examples/s]"
      ]
     },
     "metadata": {},
     "output_type": "display_data"
    },
    {
     "data": {
      "application/vnd.jupyter.widget-view+json": {
       "model_id": "ce59583b2ec74ac7a4f454e841492df9",
       "version_major": 2,
       "version_minor": 0
      },
      "text/plain": [
       "Map:   0%|          | 0/50000 [00:00<?, ? examples/s]"
      ]
     },
     "metadata": {},
     "output_type": "display_data"
    },
    {
     "name": "stdout",
     "output_type": "stream",
     "text": [
      "[2024-11-18 03:17:36,699] [INFO] [real_accelerator.py:219:get_accelerator] Setting ds_accelerator to cuda (auto detect)\n"
     ]
    },
    {
     "name": "stderr",
     "output_type": "stream",
     "text": [
      "/datadrive5/huypn16/anaconda3/envs/ana/compiler_compat/ld: cannot find -laio: No such file or directory\n",
      "collect2: error: ld returned 1 exit status\n",
      "/datadrive5/huypn16/anaconda3/envs/ana/compiler_compat/ld: /usr/local/cuda-12.5/lib64/libcufile.so: undefined reference to `dlvsym'\n",
      "/datadrive5/huypn16/anaconda3/envs/ana/compiler_compat/ld: /usr/local/cuda-12.5/lib64/libcufile.so: undefined reference to `dlopen'\n",
      "/datadrive5/huypn16/anaconda3/envs/ana/compiler_compat/ld: /usr/local/cuda-12.5/lib64/libcufile.so: undefined reference to `dlclose'\n",
      "/datadrive5/huypn16/anaconda3/envs/ana/compiler_compat/ld: /usr/local/cuda-12.5/lib64/libcufile.so: undefined reference to `dlerror'\n",
      "/datadrive5/huypn16/anaconda3/envs/ana/compiler_compat/ld: /usr/local/cuda-12.5/lib64/libcufile.so: undefined reference to `dlsym'\n",
      "collect2: error: ld returned 1 exit status\n"
     ]
    },
    {
     "data": {
      "text/html": [
       "Changes to your `wandb` environment variables will be ignored because your `wandb` session has already started. For more information on how to modify your settings with `wandb.init()` arguments, please refer to <a href='https://wandb.me/wandb-init' target=\"_blank\">the W&B docs</a>."
      ],
      "text/plain": [
       "<IPython.core.display.HTML object>"
      ]
     },
     "metadata": {},
     "output_type": "display_data"
    },
    {
     "data": {
      "text/html": [
       "wandb version 0.18.7 is available!  To upgrade, please run:\n",
       " $ pip install wandb --upgrade"
      ],
      "text/plain": [
       "<IPython.core.display.HTML object>"
      ]
     },
     "metadata": {},
     "output_type": "display_data"
    },
    {
     "data": {
      "text/html": [
       "Tracking run with wandb version 0.17.1"
      ],
      "text/plain": [
       "<IPython.core.display.HTML object>"
      ]
     },
     "metadata": {},
     "output_type": "display_data"
    },
    {
     "data": {
      "text/html": [
       "Run data is saved locally in <code>/datadrive5/huypn16-backup/NLP/NLPGeneric/tasks/classification/notebook/wandb/run-20241118_031748-40qt9tp5</code>"
      ],
      "text/plain": [
       "<IPython.core.display.HTML object>"
      ]
     },
     "metadata": {},
     "output_type": "display_data"
    },
    {
     "data": {
      "text/html": [
       "Syncing run <strong><a href='https://wandb.ai/ai4sw/text-sentiment-analysis/runs/40qt9tp5' target=\"_blank\">bert-CompareTransformers-imdb</a></strong> to <a href='https://wandb.ai/ai4sw/text-sentiment-analysis' target=\"_blank\">Weights & Biases</a> (<a href='https://wandb.me/run' target=\"_blank\">docs</a>)<br/>"
      ],
      "text/plain": [
       "<IPython.core.display.HTML object>"
      ]
     },
     "metadata": {},
     "output_type": "display_data"
    },
    {
     "data": {
      "text/html": [
       " View project at <a href='https://wandb.ai/ai4sw/text-sentiment-analysis' target=\"_blank\">https://wandb.ai/ai4sw/text-sentiment-analysis</a>"
      ],
      "text/plain": [
       "<IPython.core.display.HTML object>"
      ]
     },
     "metadata": {},
     "output_type": "display_data"
    },
    {
     "data": {
      "text/html": [
       " View run at <a href='https://wandb.ai/ai4sw/text-sentiment-analysis/runs/40qt9tp5' target=\"_blank\">https://wandb.ai/ai4sw/text-sentiment-analysis/runs/40qt9tp5</a>"
      ],
      "text/plain": [
       "<IPython.core.display.HTML object>"
      ]
     },
     "metadata": {},
     "output_type": "display_data"
    },
    {
     "data": {
      "text/html": [
       "\n",
       "    <div>\n",
       "      \n",
       "      <progress value='1641' max='1641' style='width:300px; height:20px; vertical-align: middle;'></progress>\n",
       "      [1641/1641 1:49:07, Epoch 3/3]\n",
       "    </div>\n",
       "    <table border=\"1\" class=\"dataframe\">\n",
       "  <thead>\n",
       " <tr style=\"text-align: left;\">\n",
       "      <th>Step</th>\n",
       "      <th>Training Loss</th>\n",
       "      <th>Validation Loss</th>\n",
       "      <th>Accuracy</th>\n",
       "      <th>Precision</th>\n",
       "      <th>Recall</th>\n",
       "      <th>F1</th>\n",
       "      <th>Auroc</th>\n",
       "    </tr>\n",
       "  </thead>\n",
       "  <tbody>\n",
       "    <tr>\n",
       "      <td>200</td>\n",
       "      <td>0.194200</td>\n",
       "      <td>0.287564</td>\n",
       "      <td>0.894933</td>\n",
       "      <td>0.894933</td>\n",
       "      <td>0.894933</td>\n",
       "      <td>0.894933</td>\n",
       "      <td>0.968265</td>\n",
       "    </tr>\n",
       "    <tr>\n",
       "      <td>400</td>\n",
       "      <td>0.204600</td>\n",
       "      <td>0.212621</td>\n",
       "      <td>0.920800</td>\n",
       "      <td>0.920800</td>\n",
       "      <td>0.920800</td>\n",
       "      <td>0.920800</td>\n",
       "      <td>0.976423</td>\n",
       "    </tr>\n",
       "    <tr>\n",
       "      <td>600</td>\n",
       "      <td>0.096900</td>\n",
       "      <td>0.230426</td>\n",
       "      <td>0.923867</td>\n",
       "      <td>0.923867</td>\n",
       "      <td>0.923867</td>\n",
       "      <td>0.923867</td>\n",
       "      <td>0.978179</td>\n",
       "    </tr>\n",
       "    <tr>\n",
       "      <td>800</td>\n",
       "      <td>0.084900</td>\n",
       "      <td>0.257355</td>\n",
       "      <td>0.924000</td>\n",
       "      <td>0.924000</td>\n",
       "      <td>0.924000</td>\n",
       "      <td>0.924000</td>\n",
       "      <td>0.978525</td>\n",
       "    </tr>\n",
       "    <tr>\n",
       "      <td>1000</td>\n",
       "      <td>0.154600</td>\n",
       "      <td>0.234859</td>\n",
       "      <td>0.925600</td>\n",
       "      <td>0.925600</td>\n",
       "      <td>0.925600</td>\n",
       "      <td>0.925600</td>\n",
       "      <td>0.979773</td>\n",
       "    </tr>\n",
       "    <tr>\n",
       "      <td>1200</td>\n",
       "      <td>0.009700</td>\n",
       "      <td>0.278169</td>\n",
       "      <td>0.926800</td>\n",
       "      <td>0.926800</td>\n",
       "      <td>0.926800</td>\n",
       "      <td>0.926800</td>\n",
       "      <td>0.980224</td>\n",
       "    </tr>\n",
       "    <tr>\n",
       "      <td>1400</td>\n",
       "      <td>0.030000</td>\n",
       "      <td>0.320818</td>\n",
       "      <td>0.927333</td>\n",
       "      <td>0.927333</td>\n",
       "      <td>0.927333</td>\n",
       "      <td>0.927333</td>\n",
       "      <td>0.979482</td>\n",
       "    </tr>\n",
       "    <tr>\n",
       "      <td>1600</td>\n",
       "      <td>0.081200</td>\n",
       "      <td>0.293192</td>\n",
       "      <td>0.931600</td>\n",
       "      <td>0.931600</td>\n",
       "      <td>0.931600</td>\n",
       "      <td>0.931600</td>\n",
       "      <td>0.980442</td>\n",
       "    </tr>\n",
       "  </tbody>\n",
       "</table><p>"
      ],
      "text/plain": [
       "<IPython.core.display.HTML object>"
      ]
     },
     "metadata": {},
     "output_type": "display_data"
    }
   ],
   "source": [
    "main(dataset_name=\"imdb\", model=\"bert\")"
   ]
  },
  {
   "cell_type": "code",
   "execution_count": null,
   "metadata": {},
   "outputs": [],
   "source": [
    "main(dataset_name=\"imdb\", model=\"gpt\")"
   ]
  },
  {
   "cell_type": "code",
   "execution_count": null,
   "metadata": {},
   "outputs": [],
   "source": [
    "main(dataset_name=\"imdb\", model=\"t5\")"
   ]
  },
  {
   "cell_type": "code",
   "execution_count": null,
   "metadata": {},
   "outputs": [],
   "source": []
  }
 ],
 "metadata": {
  "kernelspec": {
   "display_name": "Python 3",
   "language": "python",
   "name": "python3"
  },
  "language_info": {
   "codemirror_mode": {
    "name": "ipython",
    "version": 3
   },
   "file_extension": ".py",
   "mimetype": "text/x-python",
   "name": "python",
   "nbconvert_exporter": "python",
   "pygments_lexer": "ipython3",
   "version": "3.10.15"
  }
 },
 "nbformat": 4,
 "nbformat_minor": 2
}
